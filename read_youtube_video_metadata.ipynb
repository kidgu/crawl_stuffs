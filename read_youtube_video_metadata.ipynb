{
  "nbformat": 4,
  "nbformat_minor": 0,
  "metadata": {
    "colab": {
      "provenance": [],
      "authorship_tag": "ABX9TyOqbBEHu29XcohhS/pM/Iea",
      "include_colab_link": true
    },
    "kernelspec": {
      "name": "python3",
      "display_name": "Python 3"
    },
    "language_info": {
      "name": "python"
    }
  },
  "cells": [
    {
      "cell_type": "markdown",
      "metadata": {
        "id": "view-in-github",
        "colab_type": "text"
      },
      "source": [
        "<a href=\"https://colab.research.google.com/github/kidgu/crawl_stuffs/blob/main/read_youtube_video_metadata.ipynb\" target=\"_parent\"><img src=\"https://colab.research.google.com/assets/colab-badge.svg\" alt=\"Open In Colab\"/></a>"
      ]
    },
    {
      "cell_type": "code",
      "execution_count": null,
      "metadata": {
        "id": "jTKPxDh8zxqm"
      },
      "outputs": [],
      "source": [
        "# importing libraries\n",
        "\n",
        "import requests , numpy\n",
        "from bs4 import BeautifulSoup\n",
        "\n",
        "def read_video_list():\n",
        "  \"\"\"Read lists of videos url need to get title: can read from BQ filter videos have no title\"\"\"\n",
        "  # TODO\n",
        "  # url_list = pd.read_csv(input_file)\n",
        "  url_list = []\n",
        "  url_list.append('https://www.youtube.com/watch?v=ToaSU5c_Kh4')\n",
        "  return url_list\n",
        "\n",
        "def read_video_metadata(url_list):\n",
        "  for video_url in url_list:\n",
        "    # Request the url to get html response\n",
        "    webpage = requests.get(video_url)\n",
        "    #Parsing the content of web page by html parser\n",
        "    soup = BeautifulSoup(webpage.content, 'html.parser')\n",
        "\n",
        "    #Finding all meta tags present, stored in a list format\n",
        "    meta_tag = soup.findAll('meta')\n",
        "    title = soup.find('meta', attrs={'name': 'title'}).attrs['content']\n",
        "    description = soup.find('meta', attrs={'name': 'description'}).attrs['content']\n",
        "    hashtags = soup.find('meta', attrs={'name': 'keywords'}).attrs['content']\n",
        "    print(title)\n",
        "    print(description)\n",
        "    print(hashtags)\n",
        "    # TODO: save a file on Gooogle Cloud Storage\n",
        "\n",
        "read_video_metadata(read_video_list())\n"
      ]
    }
  ]
}